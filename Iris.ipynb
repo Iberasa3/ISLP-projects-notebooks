{
 "cells": [
  {
   "cell_type": "raw",
   "id": "afeb5163-56b9-4e9b-9374-0d515f6b1115",
   "metadata": {},
   "source": [
    "Este es el primer ejercicio práctico que voy a hacer. En este notebook tratamos la regresión lineal.\n",
    "Este enfoque es simple pero efectivo bla bla bla.\n",
    "\n",
    "He empezado por la regresión porque es uno de los modelos más simples de implementar y de entender, además de que muchos de los modelos más complejos de esta recopilación, y en general del mundo ML, son extensiones o generalizaciones de las regresiones lineales.\n",
    "Algunas de las preguntas que responderemos serán:\n",
    "¿Hay relación entre ambas variables? ¿Cómo es la relación? ¿es lineal? ¿Cómo de seguros estamos de que nuestro modelo es bueno? ¿Confiamos en que pueda predecir valores no vistos?\n",
    "\n",
    "Y qué mejor manera de empezar que con el clásico Iris.  Vamos a realizar todo este estudio pues un poco viendo a ver qué se cuentan."
   ]
  },
  {
   "cell_type": "code",
   "execution_count": 1,
   "id": "4345abf4-401c-4e8e-911e-dec17b38bcaf",
   "metadata": {},
   "outputs": [],
   "source": [
    "import pandas as pd\n",
    "import numpy as np\n",
    "import matplotlib.pyplot as plt"
   ]
  }
 ],
 "metadata": {
  "kernelspec": {
   "display_name": "Python 3 (ipykernel)",
   "language": "python",
   "name": "python3"
  },
  "language_info": {
   "codemirror_mode": {
    "name": "ipython",
    "version": 3
   },
   "file_extension": ".py",
   "mimetype": "text/x-python",
   "name": "python",
   "nbconvert_exporter": "python",
   "pygments_lexer": "ipython3",
   "version": "3.12.3"
  }
 },
 "nbformat": 4,
 "nbformat_minor": 5
}
